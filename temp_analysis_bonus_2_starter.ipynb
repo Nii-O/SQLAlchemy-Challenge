{
 "cells": [
  {
   "cell_type": "code",
   "execution_count": 86,
   "metadata": {},
   "outputs": [],
   "source": [
    "%matplotlib inline\n",
    "from matplotlib import style\n",
    "style.use('fivethirtyeight')\n",
    "import matplotlib.pyplot as plt"
   ]
  },
  {
   "cell_type": "code",
   "execution_count": 87,
   "metadata": {},
   "outputs": [],
   "source": [
    "import numpy as np\n",
    "import pandas as pd\n",
    "import datetime as dt"
   ]
  },
  {
   "cell_type": "markdown",
   "metadata": {},
   "source": [
    "## Reflect Tables into SQLALchemy ORM"
   ]
  },
  {
   "cell_type": "code",
   "execution_count": 88,
   "metadata": {},
   "outputs": [],
   "source": [
    "# Python SQL toolkit and Object Relational Mapper\n",
    "import sqlalchemy\n",
    "from sqlalchemy.ext.automap import automap_base\n",
    "from sqlalchemy.orm import Session\n",
    "from sqlalchemy import create_engine, func\n",
    "from sqlalchemy import desc"
   ]
  },
  {
   "cell_type": "code",
   "execution_count": 89,
   "metadata": {},
   "outputs": [],
   "source": [
    "# create engine to hawaii.sqlite\n",
    "database_path= \"Resources/hawaii.sqlite\"\n",
    "engine = create_engine(f\"sqlite:///{database_path}\")"
   ]
  },
  {
   "cell_type": "code",
   "execution_count": 90,
   "metadata": {},
   "outputs": [],
   "source": [
    "# reflect an existing database into a new model\n",
    "base= automap_base()\n",
    "base.prepare(engine, reflect=True)\n",
    "# reflect the tables"
   ]
  },
  {
   "cell_type": "code",
   "execution_count": 91,
   "metadata": {},
   "outputs": [
    {
     "data": {
      "text/plain": [
       "['measurement', 'station']"
      ]
     },
     "execution_count": 91,
     "metadata": {},
     "output_type": "execute_result"
    }
   ],
   "source": [
    "# View all of the classes that automap found\n",
    "base.classes.keys()"
   ]
  },
  {
   "cell_type": "code",
   "execution_count": 92,
   "metadata": {},
   "outputs": [],
   "source": [
    "# Save references to each table\n",
    "Measurement = base.classes.measurement\n",
    "Station = base.classes.station"
   ]
  },
  {
   "cell_type": "code",
   "execution_count": 93,
   "metadata": {},
   "outputs": [],
   "source": [
    "# Create our session (link) from Python to the DB\n",
    "session = Session(engine)"
   ]
  },
  {
   "cell_type": "markdown",
   "metadata": {},
   "source": [
    "## Bonus Challenge Assignment: Temperature Analysis II"
   ]
  },
  {
   "cell_type": "code",
   "execution_count": 94,
   "metadata": {},
   "outputs": [
    {
     "name": "stdout",
     "output_type": "stream",
     "text": [
      "[(62.0, 69.57142857142857, 74.0)]\n"
     ]
    }
   ],
   "source": [
    "# This function called `calc_temps` will accept start date and end date in the format '%Y-%m-%d' \n",
    "# and return the minimum, maximum, and average temperatures for that range of dates\n",
    "def calc_temps(start_date, end_date):\n",
    "    \"\"\"TMIN, TAVG, and TMAX for a list of dates.\n",
    "    \n",
    "    Args:\n",
    "        start_date (string): A date string in the format %Y-%m-%d\n",
    "        end_date (string): A date string in the format %Y-%m-%d\n",
    "        \n",
    "    Returns:\n",
    "        TMIN, TAVE, and TMAX\n",
    "    \"\"\"\n",
    "    \n",
    "    return session.query(func.min(Measurement.tobs), func.avg(Measurement.tobs), func.max(Measurement.tobs)).\\\n",
    "        filter(Measurement.date >= start_date).filter(Measurement.date <= end_date).all()\n",
    "\n",
    "# For example\n",
    "print(calc_temps('2012-02-28', '2012-03-05'))"
   ]
  },
  {
   "cell_type": "code",
   "execution_count": 95,
   "metadata": {},
   "outputs": [
    {
     "data": {
      "text/plain": [
       "[(64.0, 71.79629629629629, 80.0)]"
      ]
     },
     "execution_count": 95,
     "metadata": {},
     "output_type": "execute_result"
    }
   ],
   "source": [
    "# Use the function `calc_temps` to calculate the tmin, tavg, and tmax \n",
    "# for a year in the data set\n",
    "trip_dates = calc_temps('2014-03-22', '2014-03-30')\n",
    "trip_dates"
   ]
  },
  {
   "cell_type": "code",
   "execution_count": 96,
   "metadata": {},
   "outputs": [
    {
     "data": {
      "text/plain": [
       "Text(0, 0.5, 'Temperature (F)')"
      ]
     },
     "execution_count": 96,
     "metadata": {},
     "output_type": "execute_result"
    },
    {
     "data": {
      "image/png": "[encoded data removed]",
      "text/plain": [
       "<Figure size 432x288 with 1 Axes>"
      ]
     },
     "metadata": {},
     "output_type": "display_data"
    }
   ],
   "source": [
    "# Plot the results from your previous query as a bar chart. \n",
    "# Use \"Trip Avg Temp\" as your Title\n",
    "# Use the average temperature for bar height (y value)\n",
    "# Use the peak-to-peak (tmax-tmin) value as the y error bar (yerr)\n",
    "\n",
    "peak_t_peak = trip_dates[0][2] - trip_dates[0][0]\n",
    "bar = plt.bar(1, trip_dates[0][1], yerr = peak_t_peak, color = \"pink\")\n",
    "plt.title(\"Trip Avg Temp\")\n",
    "plt.ylabel(\"Temperature (F)\")\n",
    "#plt.figsize(figsize=(20,3))\n"
   ]
  },
  {
   "cell_type": "markdown",
   "metadata": {},
   "source": [
    "### Daily Rainfall Average"
   ]
  },
  {
   "cell_type": "code",
   "execution_count": 97,
   "metadata": {},
   "outputs": [
    {
     "name": "stderr",
     "output_type": "stream",
     "text": [
      "C:\\Users\\Owner\\AppData\\Local\\Temp/ipykernel_4588/360385060.py:4: SAWarning: SELECT statement has a cartesian product between FROM element(s) \"measurement\" and FROM element \"station\".  Apply join condition(s) between each element to resolve.\n",
      "  total_rain = session.query(Measurement.station, Station.name, Station.latitude, Station.longitude, Station.elevation, func.count(Measurement.prcp)).\\\n"
     ]
    },
    {
     "data": {
      "text/plain": [
       "[('USC00511918', 'HONOLULU OBSERVATORY 702.2, HI US', 21.3152, -157.9992, 0.9, 8),\n",
       " ('USC00511918', 'KANEOHE 838.1, HI US', 21.4234, -157.8015, 14.6, 8),\n",
       " ('USC00511918', 'KUALOA RANCH HEADQUARTERS 886.9, HI US', 21.5213, -157.8374, 7.0, 8),\n",
       " ('USC00511918', 'MANOA LYON ARBO 785.2, HI US', 21.3331, -157.8025, 152.4, 8),\n",
       " ('USC00511918', 'PEARL CITY, HI US', 21.3934, -157.9751, 11.9, 8),\n",
       " ('USC00511918', 'UPPER WAHIAWA 874.3, HI US', 21.4992, -158.0111, 306.6, 8),\n",
       " ('USC00511918', 'WAIHEE 837.5, HI US', 21.45167, -157.84888999999998, 32.9, 8),\n",
       " ('USC00511918', 'WAIKIKI 717.2, HI US', 21.2716, -157.8168, 3.0, 8),\n",
       " ('USC00511918', 'WAIMANALO EXPERIMENTAL FARM, HI US', 21.33556, -157.71139, 19.5, 8),\n",
       " ('USC00513117', 'HONOLULU OBSERVATORY 702.2, HI US', 21.3152, -157.9992, 0.9, 8),\n",
       " ('USC00513117', 'KANEOHE 838.1, HI US', 21.4234, -157.8015, 14.6, 8),\n",
       " ('USC00513117', 'KUALOA RANCH HEADQUARTERS 886.9, HI US', 21.5213, -157.8374, 7.0, 8),\n",
       " ('USC00513117', 'MANOA LYON ARBO 785.2, HI US', 21.3331, -157.8025, 152.4, 8),\n",
       " ('USC00513117', 'PEARL CITY, HI US', 21.3934, -157.9751, 11.9, 8),\n",
       " ('USC00513117', 'UPPER WAHIAWA 874.3, HI US', 21.4992, -158.0111, 306.6, 8),\n",
       " ('USC00513117', 'WAIHEE 837.5, HI US', 21.45167, -157.84888999999998, 32.9, 8),\n",
       " ('USC00513117', 'WAIKIKI 717.2, HI US', 21.2716, -157.8168, 3.0, 8),\n",
       " ('USC00513117', 'WAIMANALO EXPERIMENTAL FARM, HI US', 21.33556, -157.71139, 19.5, 8),\n",
       " ('USC00516128', 'HONOLULU OBSERVATORY 702.2, HI US', 21.3152, -157.9992, 0.9, 8),\n",
       " ('USC00516128', 'KANEOHE 838.1, HI US', 21.4234, -157.8015, 14.6, 8),\n",
       " ('USC00516128', 'KUALOA RANCH HEADQUARTERS 886.9, HI US', 21.5213, -157.8374, 7.0, 8),\n",
       " ('USC00516128', 'MANOA LYON ARBO 785.2, HI US', 21.3331, -157.8025, 152.4, 8),\n",
       " ('USC00516128', 'PEARL CITY, HI US', 21.3934, -157.9751, 11.9, 8),\n",
       " ('USC00516128', 'UPPER WAHIAWA 874.3, HI US', 21.4992, -158.0111, 306.6, 8),\n",
       " ('USC00516128', 'WAIHEE 837.5, HI US', 21.45167, -157.84888999999998, 32.9, 8),\n",
       " ('USC00516128', 'WAIKIKI 717.2, HI US', 21.2716, -157.8168, 3.0, 8),\n",
       " ('USC00516128', 'WAIMANALO EXPERIMENTAL FARM, HI US', 21.33556, -157.71139, 19.5, 8),\n",
       " ('USC00519281', 'HONOLULU OBSERVATORY 702.2, HI US', 21.3152, -157.9992, 0.9, 8),\n",
       " ('USC00519281', 'KANEOHE 838.1, HI US', 21.4234, -157.8015, 14.6, 8),\n",
       " ('USC00519281', 'KUALOA RANCH HEADQUARTERS 886.9, HI US', 21.5213, -157.8374, 7.0, 8),\n",
       " ('USC00519281', 'MANOA LYON ARBO 785.2, HI US', 21.3331, -157.8025, 152.4, 8),\n",
       " ('USC00519281', 'PEARL CITY, HI US', 21.3934, -157.9751, 11.9, 8),\n",
       " ('USC00519281', 'UPPER WAHIAWA 874.3, HI US', 21.4992, -158.0111, 306.6, 8),\n",
       " ('USC00519281', 'WAIHEE 837.5, HI US', 21.45167, -157.84888999999998, 32.9, 8),\n",
       " ('USC00519281', 'WAIKIKI 717.2, HI US', 21.2716, -157.8168, 3.0, 8),\n",
       " ('USC00519281', 'WAIMANALO EXPERIMENTAL FARM, HI US', 21.33556, -157.71139, 19.5, 8),\n",
       " ('USC00519397', 'HONOLULU OBSERVATORY 702.2, HI US', 21.3152, -157.9992, 0.9, 8),\n",
       " ('USC00519397', 'KANEOHE 838.1, HI US', 21.4234, -157.8015, 14.6, 8),\n",
       " ('USC00519397', 'KUALOA RANCH HEADQUARTERS 886.9, HI US', 21.5213, -157.8374, 7.0, 8),\n",
       " ('USC00519397', 'MANOA LYON ARBO 785.2, HI US', 21.3331, -157.8025, 152.4, 8),\n",
       " ('USC00519397', 'PEARL CITY, HI US', 21.3934, -157.9751, 11.9, 8),\n",
       " ('USC00519397', 'UPPER WAHIAWA 874.3, HI US', 21.4992, -158.0111, 306.6, 8),\n",
       " ('USC00519397', 'WAIHEE 837.5, HI US', 21.45167, -157.84888999999998, 32.9, 8),\n",
       " ('USC00519397', 'WAIKIKI 717.2, HI US', 21.2716, -157.8168, 3.0, 8),\n",
       " ('USC00519397', 'WAIMANALO EXPERIMENTAL FARM, HI US', 21.33556, -157.71139, 19.5, 8),\n",
       " ('USC00519523', 'HONOLULU OBSERVATORY 702.2, HI US', 21.3152, -157.9992, 0.9, 6),\n",
       " ('USC00519523', 'KANEOHE 838.1, HI US', 21.4234, -157.8015, 14.6, 6),\n",
       " ('USC00519523', 'KUALOA RANCH HEADQUARTERS 886.9, HI US', 21.5213, -157.8374, 7.0, 6),\n",
       " ('USC00519523', 'MANOA LYON ARBO 785.2, HI US', 21.3331, -157.8025, 152.4, 6),\n",
       " ('USC00519523', 'PEARL CITY, HI US', 21.3934, -157.9751, 11.9, 6),\n",
       " ('USC00519523', 'UPPER WAHIAWA 874.3, HI US', 21.4992, -158.0111, 306.6, 6),\n",
       " ('USC00519523', 'WAIHEE 837.5, HI US', 21.45167, -157.84888999999998, 32.9, 6),\n",
       " ('USC00519523', 'WAIKIKI 717.2, HI US', 21.2716, -157.8168, 3.0, 6),\n",
       " ('USC00519523', 'WAIMANALO EXPERIMENTAL FARM, HI US', 21.33556, -157.71139, 19.5, 6),\n",
       " ('USC00514830', 'HONOLULU OBSERVATORY 702.2, HI US', 21.3152, -157.9992, 0.9, 2),\n",
       " ('USC00514830', 'KANEOHE 838.1, HI US', 21.4234, -157.8015, 14.6, 2),\n",
       " ('USC00514830', 'KUALOA RANCH HEADQUARTERS 886.9, HI US', 21.5213, -157.8374, 7.0, 2),\n",
       " ('USC00514830', 'MANOA LYON ARBO 785.2, HI US', 21.3331, -157.8025, 152.4, 2),\n",
       " ('USC00514830', 'PEARL CITY, HI US', 21.3934, -157.9751, 11.9, 2),\n",
       " ('USC00514830', 'UPPER WAHIAWA 874.3, HI US', 21.4992, -158.0111, 306.6, 2),\n",
       " ('USC00514830', 'WAIHEE 837.5, HI US', 21.45167, -157.84888999999998, 32.9, 2),\n",
       " ('USC00514830', 'WAIKIKI 717.2, HI US', 21.2716, -157.8168, 3.0, 2),\n",
       " ('USC00514830', 'WAIMANALO EXPERIMENTAL FARM, HI US', 21.33556, -157.71139, 19.5, 2),\n",
       " ('USC00517948', 'HONOLULU OBSERVATORY 702.2, HI US', 21.3152, -157.9992, 0.9, 0),\n",
       " ('USC00517948', 'KANEOHE 838.1, HI US', 21.4234, -157.8015, 14.6, 0),\n",
       " ('USC00517948', 'KUALOA RANCH HEADQUARTERS 886.9, HI US', 21.5213, -157.8374, 7.0, 0),\n",
       " ('USC00517948', 'MANOA LYON ARBO 785.2, HI US', 21.3331, -157.8025, 152.4, 0),\n",
       " ('USC00517948', 'PEARL CITY, HI US', 21.3934, -157.9751, 11.9, 0),\n",
       " ('USC00517948', 'UPPER WAHIAWA 874.3, HI US', 21.4992, -158.0111, 306.6, 0),\n",
       " ('USC00517948', 'WAIHEE 837.5, HI US', 21.45167, -157.84888999999998, 32.9, 0),\n",
       " ('USC00517948', 'WAIKIKI 717.2, HI US', 21.2716, -157.8168, 3.0, 0),\n",
       " ('USC00517948', 'WAIMANALO EXPERIMENTAL FARM, HI US', 21.33556, -157.71139, 19.5, 0)]"
      ]
     },
     "execution_count": 97,
     "metadata": {},
     "output_type": "execute_result"
    }
   ],
   "source": [
    "# Calculate the total amount of rainfall per weather station for your trip dates using the previous year's \n",
    "# matching dates.\n",
    "# Sort this in descending order by precipitation amount and list the station, name, latitude, longitude, and elevation\n",
    "total_rain = session.query(Measurement.station, Station.name, Station.latitude, Station.longitude, Station.elevation, func.count(Measurement.prcp)).\\\n",
    "    filter(Measurement.date > '2013-03-22').filter(Measurement.date <= '2013-03-30').\\\n",
    "    group_by(Measurement.station, Station.name).order_by(func.count(Measurement.prcp).desc()).all()\n",
    "total_rain"
   ]
  },
  {
   "cell_type": "code",
   "execution_count": 98,
   "metadata": {},
   "outputs": [
    {
     "data": {
      "text/plain": [
       "[(62.0, 69.15384615384616, 77.0)]"
      ]
     },
     "execution_count": 98,
     "metadata": {},
     "output_type": "execute_result"
    }
   ],
   "source": [
    "# Use this function to calculate the daily normals \n",
    "# (i.e. the averages for tmin, tmax, and tavg for all historic data matching a specific month and day)\n",
    "\n",
    "def daily_normals(date):\n",
    "    \"\"\"Daily Normals.\n",
    "    \n",
    "    Args:\n",
    "        date (str): A date string in the format '%m-%d'\n",
    "        \n",
    "    Returns:\n",
    "        A list of tuples containing the daily normals, tmin, tavg, and tmax\n",
    "    \n",
    "    \"\"\"\n",
    "    \n",
    "    sel = [func.min(Measurement.tobs), func.avg(Measurement.tobs), func.max(Measurement.tobs)]\n",
    "    return session.query(*sel).filter(func.strftime(\"%m-%d\", Measurement.date) == date).all()\n",
    "\n",
    "# For example\n",
    "daily_normals(\"01-01\")"
   ]
  },
  {
   "cell_type": "code",
   "execution_count": 99,
   "metadata": {},
   "outputs": [
    {
     "data": {
      "text/plain": [
       "[65.0, 63.0, 62.0, 63.0, 64.0, 63.0, 59.0, 58.0, 62.0]"
      ]
     },
     "execution_count": 99,
     "metadata": {},
     "output_type": "execute_result"
    }
   ],
   "source": [
    "# calculate the daily normals for your trip\n",
    "# push each tuple of calculations into a list called `normals`\n",
    "normals= []\n",
    "# Set the start and end date of the trip\n",
    "start_date = '2014-03-22'\n",
    "end_date = '2014-03-30'\n",
    "\n",
    "# Use the start and end date to create a range of dates\n",
    "start = dt.datetime.strptime(start_date, \"%Y-%m-%d\")\n",
    "end = dt.datetime.strptime(end_date, \"%Y-%m-%d\")\n",
    "date_generated = pd.date_range(start, end)\n",
    "full_date = date_generated.strftime(\"%m-%d-%Y\")\n",
    "date_list = date_generated.strftime(\"%m-%d\")\n",
    "\n",
    "# Strip off the year and save a list of strings in the format %m-%d\n",
    "date_list[0]\n",
    "\n",
    "# Use the `daily_normals` function to calculate the normals for each date string \n",
    "# and append the results to a list called `normals`.\n",
    "for date in date_list:\n",
    "    normals.append(daily_normals(date))\n",
    "\n",
    "normals[0][0]\n",
    "\n",
    "tmin = []\n",
    "tavg= []\n",
    "tmax= []\n",
    "for temps in normals:\n",
    "    for temp in temps:\n",
    "        tmin.append(temp[0])\n",
    "        tavg.append(temp[1])\n",
    "        tmax.append(temp[2])\n",
    "\n",
    "\n",
    "tmin\n"
   ]
  },
  {
   "cell_type": "code",
   "execution_count": 100,
   "metadata": {},
   "outputs": [
    {
     "data": {
      "text/html": [
       "<div>\n",
       "<style scoped>\n",
       "    .dataframe tbody tr th:only-of-type {\n",
       "        vertical-align: middle;\n",
       "    }\n",
       "\n",
       "    .dataframe tbody tr th {\n",
       "        vertical-align: top;\n",
       "    }\n",
       "\n",
       "    .dataframe thead th {\n",
       "        text-align: right;\n",
       "    }\n",
       "</style>\n",
       "<table border=\"1\" class=\"dataframe\">\n",
       "  <thead>\n",
       "    <tr style=\"text-align: right;\">\n",
       "      <th></th>\n",
       "      <th>TMin</th>\n",
       "      <th>TMax</th>\n",
       "      <th>Tavg</th>\n",
       "    </tr>\n",
       "    <tr>\n",
       "      <th>Trip Dates</th>\n",
       "      <th></th>\n",
       "      <th></th>\n",
       "      <th></th>\n",
       "    </tr>\n",
       "  </thead>\n",
       "  <tbody>\n",
       "    <tr>\n",
       "      <th>03-22-2014</th>\n",
       "      <td>65.0</td>\n",
       "      <td>77.0</td>\n",
       "      <td>71.754717</td>\n",
       "    </tr>\n",
       "    <tr>\n",
       "      <th>03-23-2014</th>\n",
       "      <td>63.0</td>\n",
       "      <td>78.0</td>\n",
       "      <td>70.796296</td>\n",
       "    </tr>\n",
       "    <tr>\n",
       "      <th>03-24-2014</th>\n",
       "      <td>62.0</td>\n",
       "      <td>77.0</td>\n",
       "      <td>71.500000</td>\n",
       "    </tr>\n",
       "    <tr>\n",
       "      <th>03-25-2014</th>\n",
       "      <td>63.0</td>\n",
       "      <td>78.0</td>\n",
       "      <td>71.500000</td>\n",
       "    </tr>\n",
       "    <tr>\n",
       "      <th>03-26-2014</th>\n",
       "      <td>64.0</td>\n",
       "      <td>80.0</td>\n",
       "      <td>71.380000</td>\n",
       "    </tr>\n",
       "    <tr>\n",
       "      <th>03-27-2014</th>\n",
       "      <td>63.0</td>\n",
       "      <td>80.0</td>\n",
       "      <td>71.538462</td>\n",
       "    </tr>\n",
       "    <tr>\n",
       "      <th>03-28-2014</th>\n",
       "      <td>59.0</td>\n",
       "      <td>82.0</td>\n",
       "      <td>71.517857</td>\n",
       "    </tr>\n",
       "    <tr>\n",
       "      <th>03-29-2014</th>\n",
       "      <td>58.0</td>\n",
       "      <td>77.0</td>\n",
       "      <td>71.357143</td>\n",
       "    </tr>\n",
       "    <tr>\n",
       "      <th>03-30-2014</th>\n",
       "      <td>62.0</td>\n",
       "      <td>79.0</td>\n",
       "      <td>72.175439</td>\n",
       "    </tr>\n",
       "  </tbody>\n",
       "</table>\n",
       "</div>"
      ],
      "text/plain": [
       "            TMin  TMax       Tavg\n",
       "Trip Dates                       \n",
       "03-22-2014  65.0  77.0  71.754717\n",
       "03-23-2014  63.0  78.0  70.796296\n",
       "03-24-2014  62.0  77.0  71.500000\n",
       "03-25-2014  63.0  78.0  71.500000\n",
       "03-26-2014  64.0  80.0  71.380000\n",
       "03-27-2014  63.0  80.0  71.538462\n",
       "03-28-2014  59.0  82.0  71.517857\n",
       "03-29-2014  58.0  77.0  71.357143\n",
       "03-30-2014  62.0  79.0  72.175439"
      ]
     },
     "execution_count": 100,
     "metadata": {},
     "output_type": "execute_result"
    }
   ],
   "source": [
    "# Load the previous query results into a Pandas DataFrame and add the `trip_dates` range as the `date` index\n",
    "values= {'Trip Dates': full_date, 'TMin':tmin, 'TMax': tmax, 'Tavg':tavg}\n",
    "trip_df= pd.DataFrame(values)\n",
    "trip_df.set_index('Trip Dates')"
   ]
  },
  {
   "cell_type": "code",
   "execution_count": 101,
   "metadata": {},
   "outputs": [
    {
     "data": {
      "image/png": "[encoded data removed]",
      "text/plain": [
       "<Figure size 432x288 with 1 Axes>"
      ]
     },
     "metadata": {},
     "output_type": "display_data"
    }
   ],
   "source": [
    "# Plot the daily normals as an area plot with `stacked=False`\n",
    "ax = trip_df.plot.area(x='Trip Dates', stacked=False)\n",
    "plt.xlabel('Date')\n",
    "plt.ylabel('Temperature (F)')\n",
    "plt.xticks(rotation=45);"
   ]
  },
  {
   "cell_type": "markdown",
   "metadata": {},
   "source": [
    "## Close Session"
   ]
  },
  {
   "cell_type": "code",
   "execution_count": 102,
   "metadata": {},
   "outputs": [
    {
     "data": {
      "text/plain": [
       "<bound method Session.close of <sqlalchemy.orm.session.Session object at 0x00000289B0DE8670>>"
      ]
     },
     "execution_count": 102,
     "metadata": {},
     "output_type": "execute_result"
    }
   ],
   "source": [
    "session.close"
   ]
  }
 ],
 "metadata": {
  "kernelspec": {
   "display_name": "Python 3",
   "language": "python",
   "name": "python3"
  },
  "language_info": {
   "codemirror_mode": {
    "name": "ipython",
    "version": 3
   },
   "file_extension": ".py",
   "mimetype": "text/x-python",
   "name": "python",
   "nbconvert_exporter": "python",
   "pygments_lexer": "ipython3",
   "version": "3.9.7"
  }
 },
 "nbformat": 4,
 "nbformat_minor": 4
}
